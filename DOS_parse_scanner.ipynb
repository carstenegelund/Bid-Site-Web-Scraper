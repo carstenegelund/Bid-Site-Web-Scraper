{
 "cells": [
  {
   "cell_type": "code",
   "execution_count": 43,
   "id": "f0845990",
   "metadata": {},
   "outputs": [],
   "source": [
    "import requests\n",
    "import pandas as pd\n",
    "import urllib\n",
    "from bs4 import BeautifulSoup\n",
    "from sqlalchemy import create_engine"
   ]
  },
  {
   "cell_type": "code",
   "execution_count": 44,
   "id": "914161e1",
   "metadata": {},
   "outputs": [],
   "source": [
    "query = \"data\"\n",
    "status = \"closed\"\n",
    "query_html = urllib.parse.quote_plus(query)\n",
    "url = 'https://www.digitalmarketplace.service.gov.uk/digital-outcomes-and-specialists/opportunities?q=' + query + '&statusOpenClosed=' + status + ''"
   ]
  },
  {
   "cell_type": "code",
   "execution_count": 45,
   "id": "2cf6175c",
   "metadata": {},
   "outputs": [],
   "source": [
    "r = requests.get(url)\n",
    "content = r.text"
   ]
  },
  {
   "cell_type": "code",
   "execution_count": 46,
   "id": "9993db8a",
   "metadata": {},
   "outputs": [],
   "source": [
    "soup = BeautifulSoup(content, \"lxml\")"
   ]
  },
  {
   "cell_type": "code",
   "execution_count": 47,
   "id": "ce277ee1",
   "metadata": {},
   "outputs": [
    {
     "name": "stdout",
     "output_type": "stream",
     "text": [
      "30\n"
     ]
    }
   ],
   "source": [
    "sections = soup.find_all(\"li\", class_ = \"app-search-result\")\n",
    "opp_list = []\n",
    "for section in sections:\n",
    "    opp_name = section.h2.a.text\n",
    "    opp_url = section.h2.a[\"href\"]\n",
    "    opp_list.append({\"opp_name\" : opp_name, \"opp_url\" : opp_url})\n",
    "\n",
    "print(len(opp_list))"
   ]
  },
  {
   "cell_type": "code",
   "execution_count": 48,
   "id": "cfad02f7",
   "metadata": {},
   "outputs": [
    {
     "data": {
      "text/html": [
       "<div>\n",
       "<style scoped>\n",
       "    .dataframe tbody tr th:only-of-type {\n",
       "        vertical-align: middle;\n",
       "    }\n",
       "\n",
       "    .dataframe tbody tr th {\n",
       "        vertical-align: top;\n",
       "    }\n",
       "\n",
       "    .dataframe thead th {\n",
       "        text-align: right;\n",
       "    }\n",
       "</style>\n",
       "<table border=\"1\" class=\"dataframe\">\n",
       "  <thead>\n",
       "    <tr style=\"text-align: right;\">\n",
       "      <th></th>\n",
       "      <th>opp_name</th>\n",
       "      <th>opp_url</th>\n",
       "    </tr>\n",
       "  </thead>\n",
       "  <tbody>\n",
       "    <tr>\n",
       "      <th>0</th>\n",
       "      <td>DWP Identity Business Analyst 2</td>\n",
       "      <td>/digital-outcomes-and-specialists/opportunitie...</td>\n",
       "    </tr>\n",
       "    <tr>\n",
       "      <th>1</th>\n",
       "      <td>Data Centre Move Consultancy copy</td>\n",
       "      <td>/digital-outcomes-and-specialists/opportunitie...</td>\n",
       "    </tr>\n",
       "    <tr>\n",
       "      <th>2</th>\n",
       "      <td>DWP USS User Researcher</td>\n",
       "      <td>/digital-outcomes-and-specialists/opportunitie...</td>\n",
       "    </tr>\n",
       "    <tr>\n",
       "      <th>3</th>\n",
       "      <td>Social care data access project, user needs di...</td>\n",
       "      <td>/digital-outcomes-and-specialists/opportunitie...</td>\n",
       "    </tr>\n",
       "    <tr>\n",
       "      <th>4</th>\n",
       "      <td>Designing Data Stewardship Models for Artifici...</td>\n",
       "      <td>/digital-outcomes-and-specialists/opportunitie...</td>\n",
       "    </tr>\n",
       "  </tbody>\n",
       "</table>\n",
       "</div>"
      ],
      "text/plain": [
       "                                            opp_name  \\\n",
       "0                    DWP Identity Business Analyst 2   \n",
       "1                  Data Centre Move Consultancy copy   \n",
       "2                            DWP USS User Researcher   \n",
       "3  Social care data access project, user needs di...   \n",
       "4  Designing Data Stewardship Models for Artifici...   \n",
       "\n",
       "                                             opp_url  \n",
       "0  /digital-outcomes-and-specialists/opportunitie...  \n",
       "1  /digital-outcomes-and-specialists/opportunitie...  \n",
       "2  /digital-outcomes-and-specialists/opportunitie...  \n",
       "3  /digital-outcomes-and-specialists/opportunitie...  \n",
       "4  /digital-outcomes-and-specialists/opportunitie...  "
      ]
     },
     "execution_count": 48,
     "metadata": {},
     "output_type": "execute_result"
    }
   ],
   "source": [
    "df = pd.DataFrame(opp_list)\n",
    "df.reset_index(drop=True)\n",
    "\n",
    "# Create a database engine\n",
    "engine = create_engine('sqlite:///test.db')\n",
    "\n",
    "# Drop the table if it already exists\n",
    "engine.execute('DROP TABLE IF EXISTS my_table')\n",
    "\n",
    "# Write the dataframe to a table in the database\n",
    "df.to_sql('my_table', engine)\n",
    "\n",
    "# Query the database using SQL syntax\n",
    "query = 'SELECT opp_name, opp_url FROM my_table'\n",
    "results = pd.read_sql(query, engine)\n",
    "\n",
    "# # View the results as a Pandas dataframe\n",
    "results.head()"
   ]
  }
 ],
 "metadata": {
  "kernelspec": {
   "display_name": "Python 3 (ipykernel)",
   "language": "python",
   "name": "python3"
  },
  "language_info": {
   "codemirror_mode": {
    "name": "ipython",
    "version": 3
   },
   "file_extension": ".py",
   "mimetype": "text/x-python",
   "name": "python",
   "nbconvert_exporter": "python",
   "pygments_lexer": "ipython3",
   "version": "3.9.7"
  }
 },
 "nbformat": 4,
 "nbformat_minor": 5
}
